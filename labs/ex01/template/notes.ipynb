{
 "cells": [
  {
   "cell_type": "markdown",
   "id": "4d12744a-d558-42e5-88dd-8884fd2f3d39",
   "metadata": {},
   "source": [
    "Let's consider only what's happening on the exponent of $e$ since the base is a constant and the issue with dimensionality happens just in the exponent, we have $ -\\dfrac{1}{2}(x_n - \\mu)^T\\Sigma^{-1}(x_n-\\mu)$\n",
    "\n",
    "we can consider just the matrices opration for simplicty $(x_n - \\mu)^T\\Sigma^{-1}(x_n-\\mu)$\n",
    "\n",
    "$x_n, \\mu \\in \\mathbb{R}^{d, 1}$ and $\\Sigma^{-1} \\in \\mathbb{R}^{d, d}$ so when we evaluate the exponent $\\overset{(d,1)}{{(x_n-\\mu)}^T}$ we obtain a scalar"
   ]
  },
  {
   "cell_type": "markdown",
   "id": "5c2aabc7-1b60-41af-a39f-cd9e4cab0608",
   "metadata": {},
   "source": [
    "$\\overset{(1, d) \\times (d, d) \\times (d, 1)}{{(x_n-\\mu)}^T {\\Sigma^{-1}}{(x_n-\\mu)}^T}$"
   ]
  },
  {
   "cell_type": "markdown",
   "id": "889e1937-ce32-40af-a77b-de70097f69f4",
   "metadata": {},
   "source": [
    "which is actually $(x_{n1} - \\mu_1)^2\\sigma_1 + (x_{n2} - \\mu_2)^2\\sigma_2 + ... + (x_{nd} - \\mu_d)^2\\sigma_d$"
   ]
  },
  {
   "cell_type": "markdown",
   "id": "12ae8c82-439b-4807-82c6-674ebf905fae",
   "metadata": {},
   "source": [
    "Now if we reason about the multi-sample case, in which we want to process all the $n$ data point at once, we can look at the dimenions of the exponent\n",
    "\n",
    "we have $X \\in \\mathbb{R}^{n,d}, \\mu \\in \\mathbb{R}^{d, 1}$ and $\\Sigma^{-1} \\in \\mathbb{R}^{d, d}$ "
   ]
  },
  {
   "cell_type": "code",
   "execution_count": null,
   "id": "c17d609f-9790-442d-a3ad-5524444a5aef",
   "metadata": {},
   "outputs": [],
   "source": []
  },
  {
   "cell_type": "code",
   "execution_count": 1,
   "id": "a9414ef3-9def-476d-8108-4790f4e4873f",
   "metadata": {},
   "outputs": [],
   "source": [
    "import numpy as np"
   ]
  },
  {
   "cell_type": "code",
   "execution_count": 2,
   "id": "b91b74af-17ad-4096-a203-352070c4f7e1",
   "metadata": {},
   "outputs": [
    {
     "data": {
      "text/plain": [
       "array([[0, 1],\n",
       "       [1, 1],\n",
       "       [1, 2]])"
      ]
     },
     "execution_count": 2,
     "metadata": {},
     "output_type": "execute_result"
    }
   ],
   "source": [
    "x = np.array([[0, 1], [1, 1], [1, 2]])\n",
    "x"
   ]
  },
  {
   "cell_type": "code",
   "execution_count": 3,
   "id": "db9b71b3-cab9-40a3-b60e-a990682dddff",
   "metadata": {},
   "outputs": [
    {
     "data": {
      "text/plain": [
       "array([0.3, 0.2])"
      ]
     },
     "execution_count": 3,
     "metadata": {},
     "output_type": "execute_result"
    }
   ],
   "source": [
    "mu = np.array([0.3, 0.2])\n",
    "mu"
   ]
  },
  {
   "cell_type": "code",
   "execution_count": 4,
   "id": "c45814c7-df42-40bf-9323-7aae9deb52d6",
   "metadata": {},
   "outputs": [
    {
     "data": {
      "text/plain": [
       "array([[-0.3,  0.8],\n",
       "       [ 0.7,  0.8],\n",
       "       [ 0.7,  1.8]])"
      ]
     },
     "execution_count": 4,
     "metadata": {},
     "output_type": "execute_result"
    }
   ],
   "source": [
    "x - mu"
   ]
  },
  {
   "cell_type": "code",
   "execution_count": 5,
   "id": "c702abc7-bf3e-4508-9a9f-97f24c67c7da",
   "metadata": {},
   "outputs": [
    {
     "data": {
      "text/plain": [
       "(2,)"
      ]
     },
     "execution_count": 5,
     "metadata": {},
     "output_type": "execute_result"
    }
   ],
   "source": [
    "x[0].shape"
   ]
  },
  {
   "cell_type": "code",
   "execution_count": null,
   "id": "9d7a4774-6a79-4901-bd8e-3db789067a4f",
   "metadata": {},
   "outputs": [],
   "source": []
  }
 ],
 "metadata": {
  "kernelspec": {
   "display_name": "Python3 (lab venv)",
   "language": "python",
   "name": "lab-venv"
  },
  "language_info": {
   "codemirror_mode": {
    "name": "ipython",
    "version": 3
   },
   "file_extension": ".py",
   "mimetype": "text/x-python",
   "name": "python",
   "nbconvert_exporter": "python",
   "pygments_lexer": "ipython3",
   "version": "3.12.6"
  }
 },
 "nbformat": 4,
 "nbformat_minor": 5
}
